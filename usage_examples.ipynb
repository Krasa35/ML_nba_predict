{
 "cells": [
  {
   "cell_type": "code",
   "execution_count": null,
   "id": "f4a4efce",
   "metadata": {},
   "outputs": [],
   "source": [
    "from lib.nba_dataset import load_nba, load_rookies\n",
    "SEASON = '2021'\n",
    "df_rookies = load_rookies(SEASON)\n",
    "df_NBA = load_nba(SEASON)\n",
    "print(df_NBA.data.head())\n",
    "print(df_NBA.record.head())\n",
    "print(df_NBA.target.head())\n",
    "print(df_NBA.frame.head())\n",
    "print(df_NBA.target_names)\n",
    "print(df_NBA.feature_names)\n",
    "print(df_NBA.DESCR)\n",
    "\n"
   ]
  },
  {
   "cell_type": "code",
   "execution_count": null,
   "id": "876a6076",
   "metadata": {},
   "outputs": [],
   "source": [
    "from lib.nba_dataset import update_combined\n",
    "from sklearn.utils import Bunch\n",
    "import pandas as pd\n",
    "import numpy as np\n",
    "\n",
    "START = 2020\n",
    "LEARN = 4\n",
    "TEST = 2025\n",
    "seasons = list(map(str, range(START, START+LEARN, 1)))\n",
    "nba = [Bunch() for _ in seasons]\n",
    "\n",
    "nba_combined = Bunch(\n",
    "        data=pd.DataFrame(),\n",
    "        target=pd.DataFrame(),\n",
    "        record=pd.DataFrame(),\n",
    "        frame=pd.DataFrame(),\n",
    "        target_names=str,   \n",
    "        DESCR=str,\n",
    "        feature_names=np.ndarray,\n",
    "        data_module=\"sklearn.datasets.data\",\n",
    "    )\n",
    "\n",
    "nba_predict = load_nba(str(TEST))\n",
    "for season_id, season in enumerate(seasons):\n",
    "    nba[season_id] = load_nba(season)\n",
    "    nba_combined = update_combined(nba_combined, nba[season_id])\n",
    "print(f'Number of players in seasons: {START} - {START + LEARN}: {len(nba_combined.data)}')"
   ]
  },
  {
   "cell_type": "code",
   "execution_count": null,
   "id": "d468ac41",
   "metadata": {},
   "outputs": [],
   "source": [
    "from lib.nba_dataset import filter_dataset\n",
    "from sklearn.impute import KNNImputer\n",
    "\n",
    "imputer = KNNImputer(n_neighbors=5)\n",
    "nba_combined = filter_dataset(\n",
    "    nba_combined,\n",
    "    rookies=False,\n",
    "    fill_na=lambda col: pd.Series(imputer.fit_transform(col.values.reshape(-1, 1)).flatten(), index=col.index) if col.isnull().any() else col,\n",
    "    debug=True,\n",
    "    drop_low_chances=True\n",
    ")\n",
    "nba_predict = filter_dataset(\n",
    "    nba_predict,\n",
    "    rookies=False,\n",
    "    fill_na=lambda col: pd.Series(imputer.fit_transform(col.values.reshape(-1, 1)).flatten(), index=col.index) if col.isnull().any() else col,\n",
    "    debug=True,\n",
    "    drop_low_chances=True\n",
    ")"
   ]
  },
  {
   "cell_type": "code",
   "execution_count": null,
   "id": "c133b8d1",
   "metadata": {},
   "outputs": [],
   "source": [
    "from lib.metric import get_corr_charts\n",
    "import matplotlib.pyplot as plt\n",
    "\n",
    "charts_dict = get_corr_charts(nba_combined)"
   ]
  },
  {
   "cell_type": "code",
   "execution_count": null,
   "id": "34d67054",
   "metadata": {},
   "outputs": [],
   "source": [
    "from sklearn.ensemble import RandomForestClassifier\n",
    "from lib.metric import get_weighted_team_predictions, calculate_score\n",
    "from sklearn.metrics import confusion_matrix, ConfusionMatrixDisplay\n",
    "\n",
    "clf = RandomForestClassifier()\n",
    "\n",
    "clf.fit(nba_combined.data, nba_combined.target.values.flatten().astype(int))\n",
    "\n",
    "probs = clf.predict_proba(nba_predict.data)\n",
    "results_dict, true_results_dict, players_team, true_team = get_weighted_team_predictions(\n",
    "    probs, nba_predict.target, nba_predict.record\n",
    ")\n",
    "score = calculate_score(results_dict, true_results_dict)\n",
    "max_score = calculate_score(true_results_dict, true_results_dict)\n",
    "print(f'Your score: {score} / {max_score}!')\n",
    "\n",
    "cm_plot, ax = plt.subplots()\n",
    "cm = confusion_matrix(true_team, players_team, labels=[1, 2, 3])\n",
    "disp = ConfusionMatrixDisplay(confusion_matrix=cm, display_labels=[1, 2, 3])\n",
    "disp.plot(ax=ax)\n",
    "charts_dict[\"confusion_matrix\"] = cm_plot\n"
   ]
  }
 ],
 "metadata": {
  "kernelspec": {
   "display_name": ".venv",
   "language": "python",
   "name": "python3"
  },
  "language_info": {
   "codemirror_mode": {
    "name": "ipython",
    "version": 3
   },
   "file_extension": ".py",
   "mimetype": "text/x-python",
   "name": "python",
   "nbconvert_exporter": "python",
   "pygments_lexer": "ipython3",
   "version": "3.12.3"
  }
 },
 "nbformat": 4,
 "nbformat_minor": 5
}
